{
 "cells": [
  {
   "cell_type": "markdown",
   "id": "2ce718a6",
   "metadata": {},
   "source": [
    "#### Basics of Loops:\n",
    "\n",
    "### For Loops: Start with simple for loops to iterate.\n",
    "\n"
   ]
  },
  {
   "cell_type": "markdown",
   "id": "ac39468b",
   "metadata": {},
   "source": [
    "Here's a step-by-step guide to learning Python loops from scratch to advanced levels, covering both `for` and `while` loops with examples.\n",
    "\n",
    "### 1. Basic Concepts of Loops\n",
    "\n",
    "#### What is a Loop?\n",
    "A loop is a programming structure that repeats a block of code until a specific count or condition is met. Python has two main types of loops:\n",
    "- **For loop**: Iterates over a sequence (e.g., list, string, range).\n",
    "- **While loop**: Repeats as long as a given condition is `True`.\n",
    "\n",
    "---\n",
    "\n",
    "### 2. The `for` Loop\n",
    "\n",
    "#### Syntax of `for` Loop\n",
    "```python\n",
    "for variable in sequence:\n",
    "    # code block\n",
    "```\n",
    "\n",
    "#### Example: Basic `for` Loop\n",
    "Loop through a list of numbers.\n",
    "```python\n",
    "numbers = [1, 2, 3, 4]\n",
    "for number in numbers:\n",
    "    print(number)\n",
    "```\n",
    "\n",
    "#### Explanation:\n",
    "- `variable`: A temporary placeholder for each item in the `sequence`.\n",
    "- `sequence`: The list or range you’re iterating over.\n",
    "\n",
    "---\n",
    "\n",
    "### 3. The `while` Loop\n",
    "\n",
    "#### Syntax of `while` Loop\n",
    "```python\n",
    "while condition:\n",
    "    # code block\n",
    "```\n",
    "\n",
    "#### Example: Basic `while` Loop\n",
    "Count up to a specified number.\n",
    "```python\n",
    "count = 1\n",
    "while count <= 5:\n",
    "    print(count)\n",
    "    count += 1\n",
    "```\n",
    "\n",
    "#### Explanation:\n",
    "- `condition`: Checked before each loop iteration. If `True`, the loop runs; if `False`, it stops.\n",
    "- `count += 1`: Increments `count` by 1 after each loop.\n",
    "\n",
    "---\n",
    "\n",
    "### 4. Loop Control Statements\n",
    "\n",
    "#### `break` Statement\n",
    "- Stops the loop immediately.\n",
    "```python\n",
    "for number in range(1, 10):\n",
    "    if number == 5:\n",
    "        break\n",
    "    print(number)\n",
    "```\n",
    "\n",
    "#### `continue` Statement\n",
    "- Skips the current iteration and moves to the next.\n",
    "```python\n",
    "for number in range(1, 10):\n",
    "    if number == 5:\n",
    "        continue\n",
    "    print(number)\n",
    "```\n",
    "\n",
    "---\n",
    "\n",
    "### 5. Using `for` Loop with `range()`\n",
    "\n",
    "#### Example: Loop with `range()`\n",
    "```python\n",
    "for i in range(5):\n",
    "    print(i)  # Outputs 0, 1, 2, 3, 4\n",
    "```\n",
    "\n",
    "#### Example: Specifying Start, Stop, and Step\n",
    "```python\n",
    "for i in range(1, 10, 2):\n",
    "    print(i)  # Outputs 1, 3, 5, 7, 9\n",
    "```\n",
    "\n",
    "---\n",
    "\n",
    "### 6. Nested Loops\n",
    "\n",
    "#### Example: Nested `for` Loop\n",
    "```python\n",
    "for i in range(1, 3):\n",
    "    for j in range(1, 3):\n",
    "        print(f\"i = {i}, j = {j}\")\n",
    "```\n",
    "\n",
    "---\n",
    "\n",
    "### 7. Advanced `while` Loop with Conditions\n",
    "\n",
    "#### Example: `while` Loop with Multiple Conditions\n",
    "```python\n",
    "count = 0\n",
    "while count < 10:\n",
    "    if count == 5:\n",
    "        print(\"Count is 5, skipping.\")\n",
    "        count += 1\n",
    "        continue\n",
    "    print(count)\n",
    "    count += 1\n",
    "```\n",
    "\n",
    "---\n",
    "\n",
    "### 8. Using `else` with Loops\n",
    "\n",
    "#### Example: `for` Loop with `else`\n",
    "```python\n",
    "for i in range(5):\n",
    "    print(i)\n",
    "else:\n",
    "    print(\"Loop completed.\")\n",
    "```\n",
    "\n",
    "---\n",
    "\n",
    "### 9. Infinite Loops (Use with Caution)\n",
    "\n",
    "#### Example: Infinite `while` Loop\n",
    "```python\n",
    "while True:\n",
    "    print(\"This will run forever!\")\n",
    "    break  # Add break to stop the loop\n",
    "```\n",
    "\n",
    "---\n",
    "\n",
    "### 10. Practical Examples of Loops\n",
    "\n",
    "#### Example: Summing Numbers with a `for` Loop\n",
    "```python\n",
    "total = 0\n",
    "for i in range(1, 6):\n",
    "    total += i\n",
    "print(\"Sum:\", total)  # Outputs 15\n",
    "```\n",
    "\n",
    "#### Example: Counting Occurrences in a List with `while`\n",
    "```python\n",
    "values = [1, 2, 2, 3, 2, 4, 5]\n",
    "target = 2\n",
    "count = 0\n",
    "i = 0\n",
    "while i < len(values):\n",
    "    if values[i] == target:\n",
    "        count += 1\n",
    "    i += 1\n",
    "print(\"Count of 2:\", count)  # Outputs 3\n",
    "```\n",
    "\n",
    "---\n",
    "\n",
    "These steps cover essential, intermediate, and advanced loop concepts in Python. Practice each level to gain confidence in handling loops effectively!"
   ]
  },
  {
   "cell_type": "code",
   "execution_count": 1,
   "id": "9c8707a9",
   "metadata": {},
   "outputs": [
    {
     "name": "stdout",
     "output_type": "stream",
     "text": [
      "1\n",
      "2\n",
      "3\n",
      "4\n"
     ]
    }
   ],
   "source": [
    "# For loop\n",
    "numbers = [1, 2, 3, 4]\n",
    "for number in numbers:\n",
    "    print(number)"
   ]
  },
  {
   "cell_type": "code",
   "execution_count": 3,
   "id": "e80cd901",
   "metadata": {},
   "outputs": [
    {
     "name": "stdout",
     "output_type": "stream",
     "text": [
      "1\n",
      "2\n",
      "3\n",
      "4\n",
      "5\n"
     ]
    }
   ],
   "source": [
    "#While loop\n",
    "count = 1\n",
    "while count <= 5:\n",
    "    print(count)\n",
    "    count += 1"
   ]
  },
  {
   "cell_type": "code",
   "execution_count": 2,
   "id": "831b5038",
   "metadata": {},
   "outputs": [
    {
     "name": "stdout",
     "output_type": "stream",
     "text": [
      "1\n",
      "2\n",
      "3\n",
      "4\n"
     ]
    }
   ],
   "source": [
    "# Break Statement\n",
    "for number in range(1, 10):\n",
    "    if number == 5:\n",
    "        break\n",
    "    print(number)"
   ]
  },
  {
   "cell_type": "code",
   "execution_count": 8,
   "id": "984555ab",
   "metadata": {},
   "outputs": [
    {
     "name": "stdout",
     "output_type": "stream",
     "text": [
      "1\n",
      "2\n",
      "3\n",
      "4\n"
     ]
    }
   ],
   "source": [
    "for number in range(1, 10):\n",
    "    if number == 5:\n",
    "        break\n",
    "    print(number)"
   ]
  },
  {
   "cell_type": "code",
   "execution_count": 9,
   "id": "11be1d6a",
   "metadata": {},
   "outputs": [
    {
     "name": "stdout",
     "output_type": "stream",
     "text": [
      "1\n",
      "2\n",
      "3\n",
      "4\n",
      "6\n",
      "7\n",
      "8\n",
      "9\n"
     ]
    }
   ],
   "source": [
    "# Continue statement\n",
    "for number in range(1, 10):\n",
    "    if number == 5:\n",
    "        continue\n",
    "    print(number)"
   ]
  },
  {
   "cell_type": "code",
   "execution_count": 10,
   "id": "74d953d2",
   "metadata": {},
   "outputs": [
    {
     "name": "stdout",
     "output_type": "stream",
     "text": [
      "0\n",
      "1\n",
      "2\n",
      "3\n",
      "4\n"
     ]
    }
   ],
   "source": [
    "# 5. Using for Loop with range() Example: Loop with range()\n",
    "\n",
    "for i in range(5):\n",
    "    print(i)  # Outputs 0, 1, 2, 3, 4\n"
   ]
  },
  {
   "cell_type": "code",
   "execution_count": 11,
   "id": "74b8d40d",
   "metadata": {},
   "outputs": [
    {
     "name": "stdout",
     "output_type": "stream",
     "text": [
      "1\n",
      "3\n",
      "5\n",
      "7\n",
      "9\n"
     ]
    }
   ],
   "source": [
    "#Example: Specifying Start, Stop, and Step\n",
    "\n",
    "for i in range(1, 10, 2):\n",
    "    print(i)  # Outputs 1, 3, 5, 7, 9"
   ]
  },
  {
   "cell_type": "code",
   "execution_count": 12,
   "id": "6d4b51e6",
   "metadata": {},
   "outputs": [
    {
     "name": "stdout",
     "output_type": "stream",
     "text": [
      "i = 1, j = 1\n",
      "i = 1, j = 2\n",
      "i = 2, j = 1\n",
      "i = 2, j = 2\n"
     ]
    }
   ],
   "source": [
    "#Example: Nested for Loop\n",
    "\n",
    "for i in range(1, 3):\n",
    "    for j in range(1, 3):\n",
    "        print(f\"i = {i}, j = {j}\")"
   ]
  },
  {
   "cell_type": "code",
   "execution_count": null,
   "id": "6f9d1fac",
   "metadata": {},
   "outputs": [],
   "source": []
  },
  {
   "cell_type": "code",
   "execution_count": 3,
   "id": "3b4902df",
   "metadata": {},
   "outputs": [
    {
     "name": "stdout",
     "output_type": "stream",
     "text": [
      "0\n",
      "1\n",
      "2\n",
      "3\n",
      "4\n",
      "Count is 5, skipping.\n",
      "6\n",
      "7\n",
      "8\n",
      "9\n"
     ]
    }
   ],
   "source": [
    "# Example: while Loop with Multiple Conditions\n",
    "\n",
    "count = 0\n",
    "while count < 10:\n",
    "    if count == 5:\n",
    "        print(\"Count is 5, skipping.\")\n",
    "        count += 1\n",
    "        continue\n",
    "    print(count)\n",
    "    count += 1"
   ]
  },
  {
   "cell_type": "code",
   "execution_count": null,
   "id": "f0d4b8a5",
   "metadata": {},
   "outputs": [],
   "source": []
  },
  {
   "cell_type": "code",
   "execution_count": 14,
   "id": "951ccd3b",
   "metadata": {},
   "outputs": [
    {
     "name": "stdout",
     "output_type": "stream",
     "text": [
      "0\n",
      "1\n",
      "2\n",
      "3\n",
      "4\n",
      "Loop completed.\n"
     ]
    }
   ],
   "source": [
    "#Using else with Loops\n",
    "#Example: for Loop with else\n",
    "\n",
    "\n",
    "for i in range(5):\n",
    "    print(i)\n",
    "else:\n",
    "    print(\"Loop completed.\")"
   ]
  },
  {
   "cell_type": "code",
   "execution_count": null,
   "id": "e26bbef3",
   "metadata": {},
   "outputs": [],
   "source": []
  },
  {
   "cell_type": "code",
   "execution_count": 15,
   "id": "d02fa761",
   "metadata": {},
   "outputs": [
    {
     "name": "stdout",
     "output_type": "stream",
     "text": [
      "This will run forever!\n"
     ]
    }
   ],
   "source": [
    "#Example: Infinite while Loop\n",
    "\n",
    "while True:\n",
    "    print(\"This will run forever!\")\n",
    "    break  # Add break to stop the loop"
   ]
  },
  {
   "cell_type": "code",
   "execution_count": null,
   "id": "aabcc9b9",
   "metadata": {},
   "outputs": [],
   "source": []
  },
  {
   "cell_type": "code",
   "execution_count": 16,
   "id": "c4afd009",
   "metadata": {},
   "outputs": [
    {
     "name": "stdout",
     "output_type": "stream",
     "text": [
      "Sum: 15\n"
     ]
    }
   ],
   "source": [
    "# Example: Summing Numbers with a for Loop\n",
    "\n",
    "\n",
    "total = 0\n",
    "for i in range(1, 6):\n",
    "    total += i\n",
    "print(\"Sum:\", total)  # Outputs 15"
   ]
  },
  {
   "cell_type": "code",
   "execution_count": null,
   "id": "201bbd0b",
   "metadata": {},
   "outputs": [],
   "source": []
  },
  {
   "cell_type": "code",
   "execution_count": 17,
   "id": "0e27e95b",
   "metadata": {},
   "outputs": [
    {
     "name": "stdout",
     "output_type": "stream",
     "text": [
      "Count of 2: 3\n"
     ]
    }
   ],
   "source": [
    "# Example: Counting Occurrences in a List with while\n",
    "\n",
    "values = [1, 2, 2, 3, 2, 4, 5]\n",
    "target = 2\n",
    "count = 0\n",
    "i = 0\n",
    "while i < len(values):\n",
    "    if values[i] == target:\n",
    "        count += 1\n",
    "    i += 1\n",
    "print(\"Count of 2:\", count)  # Outputs 3"
   ]
  },
  {
   "cell_type": "code",
   "execution_count": null,
   "id": "63595553",
   "metadata": {},
   "outputs": [],
   "source": []
  },
  {
   "cell_type": "code",
   "execution_count": null,
   "id": "e31e4077",
   "metadata": {},
   "outputs": [],
   "source": []
  },
  {
   "cell_type": "code",
   "execution_count": null,
   "id": "4661e304",
   "metadata": {},
   "outputs": [],
   "source": []
  },
  {
   "cell_type": "code",
   "execution_count": null,
   "id": "bad45aaf",
   "metadata": {},
   "outputs": [],
   "source": []
  },
  {
   "cell_type": "code",
   "execution_count": null,
   "id": "4552e2fa",
   "metadata": {},
   "outputs": [],
   "source": []
  },
  {
   "cell_type": "code",
   "execution_count": null,
   "id": "7393b790",
   "metadata": {},
   "outputs": [],
   "source": []
  },
  {
   "cell_type": "code",
   "execution_count": null,
   "id": "dc170cf3",
   "metadata": {},
   "outputs": [],
   "source": []
  },
  {
   "cell_type": "code",
   "execution_count": null,
   "id": "e028e6bd",
   "metadata": {},
   "outputs": [],
   "source": []
  },
  {
   "cell_type": "code",
   "execution_count": null,
   "id": "2b8b293b",
   "metadata": {},
   "outputs": [],
   "source": []
  },
  {
   "cell_type": "code",
   "execution_count": null,
   "id": "5d979648",
   "metadata": {},
   "outputs": [],
   "source": []
  },
  {
   "cell_type": "code",
   "execution_count": null,
   "id": "caf0dc10",
   "metadata": {},
   "outputs": [],
   "source": []
  },
  {
   "cell_type": "code",
   "execution_count": null,
   "id": "f4a1305a",
   "metadata": {},
   "outputs": [],
   "source": []
  },
  {
   "cell_type": "code",
   "execution_count": null,
   "id": "ecc74bf2",
   "metadata": {},
   "outputs": [],
   "source": []
  },
  {
   "cell_type": "code",
   "execution_count": null,
   "id": "cb418790",
   "metadata": {},
   "outputs": [],
   "source": []
  },
  {
   "cell_type": "code",
   "execution_count": null,
   "id": "84f05e6a",
   "metadata": {},
   "outputs": [],
   "source": []
  },
  {
   "cell_type": "code",
   "execution_count": null,
   "id": "dd3cf6f6",
   "metadata": {},
   "outputs": [],
   "source": []
  },
  {
   "cell_type": "code",
   "execution_count": null,
   "id": "0d512c3c",
   "metadata": {},
   "outputs": [],
   "source": []
  },
  {
   "cell_type": "code",
   "execution_count": 3,
   "id": "d792f12e",
   "metadata": {},
   "outputs": [
    {
     "name": "stdout",
     "output_type": "stream",
     "text": [
      "0\n",
      "1\n",
      "2\n",
      "3\n",
      "4\n",
      "5\n",
      "6\n",
      "7\n",
      "8\n",
      "9\n"
     ]
    }
   ],
   "source": [
    "for i in range(10):\n",
    "    print(i)"
   ]
  },
  {
   "cell_type": "markdown",
   "id": "ec72d071",
   "metadata": {},
   "source": [
    " ### While Loops: Understand while loops and practice using conditions to control the loop."
   ]
  },
  {
   "cell_type": "code",
   "execution_count": 8,
   "id": "6f75f4a0",
   "metadata": {},
   "outputs": [
    {
     "name": "stdout",
     "output_type": "stream",
     "text": [
      "10\n",
      "20\n",
      "30\n",
      "40\n",
      "50\n",
      "60\n",
      "70\n",
      "80\n",
      "90\n",
      "100\n"
     ]
    }
   ],
   "source": [
    "n=10\n",
    "a=0\n",
    "i=0\n",
    "while(i<n):\n",
    "    a+=10\n",
    "    print(a)\n",
    "    i+=1\n",
    "    \n",
    "# You need to initialise a and i both as here before start.\n",
    "# Else for you may get error and for i you may get wrong output as not initialised."
   ]
  },
  {
   "cell_type": "markdown",
   "id": "cb5a90f2",
   "metadata": {},
   "source": [
    "### 2. Loop Control Statements\n",
    "##### Break: Exit the loop when a condition is met.\n",
    "##### Continue: Skip the current iteration and continue with the next one.\n",
    "##### Pass: Placeholder that does nothing but keeps the loop structure valid."
   ]
  },
  {
   "cell_type": "code",
   "execution_count": 22,
   "id": "fb068a43",
   "metadata": {},
   "outputs": [
    {
     "name": "stdout",
     "output_type": "stream",
     "text": [
      "0\n",
      "1\n",
      "2\n",
      "Here the flow is broken for the particular iteration where i= 3\n",
      "4\n",
      "here the whole loop is broken, though the iteration till pending.\n"
     ]
    }
   ],
   "source": [
    "for i in range(10):\n",
    "    if i==3:\n",
    "        print(\"Here the flow is broken for the particular iteration where i= 3\")\n",
    "        continue;\n",
    "        print(\"it is forced to continue the loop but not the loop body anymore...\")\n",
    "    elif i==5:\n",
    "        print(\"Here the whole loop is broken, though the iteration till pending.\")\n",
    "        break\n",
    "        print(\"No more execution of the loop\")\n",
    "    print(i)"
   ]
  },
  {
   "cell_type": "code",
   "execution_count": 23,
   "id": "609f3250",
   "metadata": {},
   "outputs": [
    {
     "name": "stdout",
     "output_type": "stream",
     "text": [
      "Processing number: 0\n",
      "Processing number: 1\n",
      "Processing number: 3\n",
      "Processing number: 4\n"
     ]
    }
   ],
   "source": [
    "# Example of pass in a for loop\n",
    "for i in range(5):\n",
    "    if i == 2:\n",
    "        # Placeholder for future code when i equals 2\n",
    "        pass\n",
    "    else:\n",
    "        print(\"Processing number:\", i)\n"
   ]
  },
  {
   "cell_type": "markdown",
   "id": "14c071ad",
   "metadata": {},
   "source": [
    "The `pass` statement is often used as a placeholder in Python when you want to write code but haven’t implemented it yet. It does nothing and allows you to maintain the syntax structure of loops, functions, classes, or conditionals without running any code in those blocks. This can be especially useful if you’re planning to add functionality later.\n",
    "\n",
    "### Explanation\n",
    "\n",
    "In this example:\n",
    "- When `i` is `2`, the `pass` statement does nothing, so the loop skips any action for that condition.\n",
    "- For other values of `i`, the `print` statement runs as usual.\n",
    "\n",
    "This code is helpful when you have not yet decided what to do in certain cases but want to keep the loop structure intact."
   ]
  },
  {
   "cell_type": "markdown",
   "id": "4c3159e1",
   "metadata": {},
   "source": [
    "## Combined output of break, continue and pass"
   ]
  },
  {
   "cell_type": "code",
   "execution_count": 30,
   "id": "c42fd407",
   "metadata": {},
   "outputs": [
    {
     "name": "stdout",
     "output_type": "stream",
     "text": [
      "Processing number: 1\n",
      "2\n",
      "Pass - Do not stop the current iteration body\n",
      "Processing number: 2\n",
      "i= 3\n",
      "Processing number: 4\n"
     ]
    }
   ],
   "source": [
    "for i in range(1, 6):\n",
    "    if i == 2:\n",
    "        pass  # Placeholder, does nothing; loop will continue as normal\n",
    "        print(i)\n",
    "        print(\"Pass - Do not stop the current iteration body\")\n",
    "    elif i == 3:\n",
    "        print(\"i=\",i)\n",
    "        continue  # Skip the rest of this iteration, move to the next iteration\n",
    "        print(i)\n",
    "        print(\"Continue - Stop the current iteratio body.\")\n",
    "    elif i == 5:\n",
    "        break  # Exit the loop entirely\n",
    "        print(i)\n",
    "        print(\"Break the comlete loop\")\n",
    "    print(f\"Processing number: {i}\")\n"
   ]
  },
  {
   "cell_type": "markdown",
   "id": "b815a726",
   "metadata": {},
   "source": [
    "## Question 1\n",
    "#### Write a program to find the largest, smallest and middle value out of three numbers."
   ]
  },
  {
   "cell_type": "code",
   "execution_count": 32,
   "id": "b0686ab5",
   "metadata": {},
   "outputs": [
    {
     "name": "stdout",
     "output_type": "stream",
     "text": [
      "Enter first number: 1\n",
      "Enter second number: 2\n",
      "Enter third number: 3\n",
      "Largest: 3\n",
      "Middle: 2\n",
      "Smallest: 1\n"
     ]
    }
   ],
   "source": [
    "#Simple For-Loop Approach\n",
    "\n",
    "# Input: Three numbers\n",
    "numbers = [int(input(\"Enter first number: \")), \n",
    "           int(input(\"Enter second number: \")), \n",
    "           int(input(\"Enter third number: \"))]\n",
    "\n",
    "# Initialize variables to hold the largest, middle, and smallest values\n",
    "largest = numbers[0]\n",
    "smallest = numbers[0]\n",
    "\n",
    "# Find the largest and smallest numbers using a simple for-loop\n",
    "for num in numbers:\n",
    "    if num > largest:\n",
    "        largest = num\n",
    "    if num < smallest:\n",
    "        smallest = num\n",
    "\n",
    "# The middle value is the one that is neither the smallest nor the largest\n",
    "for num in numbers:\n",
    "    if num != largest and num != smallest:\n",
    "        middle = num\n",
    "\n",
    "print(f\"Largest: {largest}\")\n",
    "print(f\"Middle: {middle}\")\n",
    "print(f\"Smallest: {smallest}\")\n"
   ]
  },
  {
   "cell_type": "code",
   "execution_count": 33,
   "id": "d43e0c8f",
   "metadata": {},
   "outputs": [
    {
     "name": "stdout",
     "output_type": "stream",
     "text": [
      "Enter first number: 3\n",
      "Enter second number: 6\n",
      "Enter third number: 9\n",
      "Largest: 9\n",
      "Middle: 6\n",
      "Smallest: 3\n"
     ]
    }
   ],
   "source": [
    "# Advanced Approach (Using Python's Built-In Functions)\n",
    "\n",
    "# Input: Three numbers\n",
    "numbers = [int(input(\"Enter first number: \")), \n",
    "           int(input(\"Enter second number: \")), \n",
    "           int(input(\"Enter third number: \"))]\n",
    "\n",
    "# Sort the list to get smallest, middle, and largest values\n",
    "numbers.sort()\n",
    "\n",
    "# Extract values after sorting\n",
    "smallest = numbers[0]\n",
    "middle = numbers[1]\n",
    "largest = numbers[2]\n",
    "\n",
    "print(f\"Largest: {largest}\")\n",
    "print(f\"Middle: {middle}\")\n",
    "print(f\"Smallest: {smallest}\")\n"
   ]
  },
  {
   "cell_type": "markdown",
   "id": "51c3297e",
   "metadata": {},
   "source": [
    "## Question 2\n",
    "#### Write a program to find the largest, smallest and middle value out of five numbers."
   ]
  },
  {
   "cell_type": "code",
   "execution_count": 34,
   "id": "6f2fde2f",
   "metadata": {},
   "outputs": [
    {
     "name": "stdout",
     "output_type": "stream",
     "text": [
      "Enter first number: 5\n",
      "Enter second number: 9\n",
      "Enter third number: 7\n",
      "Enter fourth number: 2\n",
      "Enter fifth number: 0\n",
      "Largest: 9\n",
      "Smallest: 0\n",
      "Middle (average of remaining three values): 4.666666666666667\n"
     ]
    }
   ],
   "source": [
    "# Input: Five values\n",
    "a = int(input(\"Enter first number: \"))\n",
    "b = int(input(\"Enter second number: \"))\n",
    "c = int(input(\"Enter third number: \"))\n",
    "d = int(input(\"Enter fourth number: \"))\n",
    "e = int(input(\"Enter fifth number: \"))\n",
    "\n",
    "# Initialize variables to hold the values\n",
    "numbers = [a, b, c, d, e]\n",
    "\n",
    "# Initialize the smallest and largest with the first value\n",
    "smallest = numbers[0]\n",
    "largest = numbers[0]\n",
    "total_sum = 0  # For calculating the middle value later\n",
    "\n",
    "# Iterate through each number to find the smallest and largest\n",
    "for num in numbers:\n",
    "    if num < smallest:\n",
    "        smallest = num\n",
    "    if num > largest:\n",
    "        largest = num\n",
    "    total_sum += num  # Sum up all numbers\n",
    "\n",
    "# Calculate the middle value by excluding the smallest and largest\n",
    "middle_sum = total_sum - smallest - largest\n",
    "# Calculate average of remaining values for the middle value\n",
    "middle_value = middle_sum / 3\n",
    "\n",
    "print(f\"Largest: {largest}\")\n",
    "print(f\"Smallest: {smallest}\")\n",
    "print(f\"Middle (average of remaining three values): {middle_value}\")\n"
   ]
  },
  {
   "cell_type": "markdown",
   "id": "a6531281",
   "metadata": {},
   "source": [
    "### Explanation\n",
    "\n",
    "1. **Initialize** the smallest and largest values to the first value in the list.\n",
    "2. **Loop through** each number to find the smallest and largest values.\n",
    "3. **Sum up** all numbers to calculate the middle values later.\n",
    "4. **Exclude** the largest and smallest values to get the middle three values.\n",
    "5. **Print** the largest, smallest, and middle values.\n",
    "\n",
    "This approach provides the largest and smallest values directly and computes the average of the middle three values for simplicity."
   ]
  },
  {
   "cell_type": "code",
   "execution_count": 2,
   "id": "db7ddaa3",
   "metadata": {},
   "outputs": [
    {
     "name": "stdout",
     "output_type": "stream",
     "text": [
      "Enter 1st number1000\n",
      "Enter 2nd number3000\n",
      "Enter 3rd number100000\n",
      "Largest= 100000\n",
      "Middle= 3000\n",
      "Smallest= 1000\n"
     ]
    }
   ],
   "source": [
    "numbers = [int(input(\"Enter 1st number\")),int(input(\"Enter 2nd number\")),int(input(\"Enter 3rd number\"))]\n",
    "\n",
    "largest = numbers[0]\n",
    "smallest = numbers[0]\n",
    "\n",
    "for num in numbers:\n",
    "    if num>largest:\n",
    "        largest = num\n",
    "    if num<smallest:\n",
    "        smallest = num\n",
    "        \n",
    "for num in numbers:\n",
    "    if num!= largest and num!= smallest:\n",
    "        middle=num\n",
    "        \n",
    "print(\"Largest=\",largest)\n",
    "print(\"Middle=\",middle)\n",
    "print(\"Smallest=\",smallest)"
   ]
  },
  {
   "cell_type": "markdown",
   "id": "2d29bbb2",
   "metadata": {},
   "source": [
    "## Question 3\n",
    "### pattern\n",
    "    "
   ]
  },
  {
   "cell_type": "code",
   "execution_count": 8,
   "id": "a2472c62",
   "metadata": {},
   "outputs": [
    {
     "name": "stdout",
     "output_type": "stream",
     "text": [
      "*********\n",
      "********\n",
      "*******\n",
      "******\n",
      "*****\n",
      "****\n",
      "***\n",
      "**\n",
      "*\n"
     ]
    }
   ],
   "source": [
    "for i in range(1,10):\n",
    "    for j in range(i,10):\n",
    "        print(\"*\",end='')\n",
    "    print()\n",
    "        "
   ]
  },
  {
   "cell_type": "code",
   "execution_count": 9,
   "id": "65b11b67",
   "metadata": {},
   "outputs": [
    {
     "name": "stdout",
     "output_type": "stream",
     "text": [
      "\n",
      "\n",
      "*\n",
      "**\n",
      "***\n",
      "****\n",
      "*****\n",
      "******\n",
      "*******\n",
      "********\n"
     ]
    }
   ],
   "source": [
    "for i in range(10):\n",
    "    for j in range(1,i):\n",
    "        print(\"*\",end='')\n",
    "    print()"
   ]
  },
  {
   "cell_type": "code",
   "execution_count": 3,
   "id": "e06650b5",
   "metadata": {},
   "outputs": [
    {
     "name": "stdout",
     "output_type": "stream",
     "text": [
      "6\n"
     ]
    }
   ],
   "source": [
    "# Factorial:\n",
    "\n",
    "fact =1\n",
    "for i in range(1,4):\n",
    "    fact*=i\n",
    "print(fact)"
   ]
  },
  {
   "cell_type": "code",
   "execution_count": 9,
   "id": "d2a8bc9d",
   "metadata": {},
   "outputs": [
    {
     "name": "stdout",
     "output_type": "stream",
     "text": [
      "[1, 4, 9, 16, 25]\n"
     ]
    }
   ],
   "source": [
    "# Square each value present in a list without using any other empty list.\n",
    "\n",
    "l1 = [1,2,3,4,5]\n",
    "for i in range(len(l1)):\n",
    "    l1[i]=l1[i]**2\n",
    "print(l1)"
   ]
  },
  {
   "cell_type": "code",
   "execution_count": 17,
   "id": "3c94bcd2",
   "metadata": {},
   "outputs": [
    {
     "name": "stdout",
     "output_type": "stream",
     "text": [
      "[20, 40, 60, 80, 100]\n"
     ]
    }
   ],
   "source": [
    "# \n",
    "l1=[10,20,30,40,50]\n",
    "l1=[(i*2) for i in l1]\n",
    "print(l1)\n"
   ]
  },
  {
   "cell_type": "code",
   "execution_count": null,
   "id": "928a2a3c",
   "metadata": {},
   "outputs": [],
   "source": []
  }
 ],
 "metadata": {
  "kernelspec": {
   "display_name": "Python 3 (ipykernel)",
   "language": "python",
   "name": "python3"
  },
  "language_info": {
   "codemirror_mode": {
    "name": "ipython",
    "version": 3
   },
   "file_extension": ".py",
   "mimetype": "text/x-python",
   "name": "python",
   "nbconvert_exporter": "python",
   "pygments_lexer": "ipython3",
   "version": "3.10.9"
  }
 },
 "nbformat": 4,
 "nbformat_minor": 5
}
